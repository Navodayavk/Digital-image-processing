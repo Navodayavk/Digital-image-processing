{
  "nbformat": 4,
  "nbformat_minor": 0,
  "metadata": {
    "colab": {
      "provenance": []
    },
    "kernelspec": {
      "name": "python3",
      "display_name": "Python 3"
    },
    "language_info": {
      "name": "python"
    }
  },
  "cells": [
    {
      "cell_type": "code",
      "source": [
        "# Define low-pass filter (1/10 average filter)\n",
        "def low_pass_filter(image):\n",
        "    rows, cols = image.shape\n",
        "    output_image = np.zeros_like(image, dtype=np.uint8)\n",
        "\n",
        "    for i in range(1, rows - 1):  # Exclude borders for simplicity\n",
        "        for j in range(1, cols - 1):\n",
        "            # Compute the average of the 3x3 neighborhood\n",
        "            neighborhood = image[i-1:i+2, j-1:j+2]\n",
        "            avg_value = np.sum(neighborhood) // 10  # Using integer division for simplicity\n",
        "            output_image[i, j] = avg_value\n",
        "\n",
        "    return output_image\n",
        "\n",
        "# Define a small and simple input matrix (4x4)\n",
        "simple_input_image = np.array([\n",
        "    [100, 150, 200, 250],\n",
        "    [100, 150, 200, 250],\n",
        "    [50,  100, 150, 200],\n",
        "    [50,  100, 150, 200]\n",
        "], dtype=np.uint8)\n",
        "\n",
        "# Apply the filter to the simple matrix\n",
        "simple_output_image = low_pass_filter(simple_input_image)\n",
        "\n",
        "# Display the original and filtered images for the small matrix\n",
        "plt.figure(figsize=(6, 3))\n",
        "plt.subplot(1, 2, 1)\n",
        "plt.title(\"Original Matrix\")\n",
        "plt.imshow(simple_input_image, cmap='gray', vmin=0, vmax=255)\n",
        "plt.colorbar()\n",
        "plt.subplot(1, 2, 2)\n",
        "plt.title(\"Filtered Matrix\")\n",
        "plt.imshow(simple_output_image, cmap='gray', vmin=0, vmax=255)\n",
        "plt.colorbar()\n",
        "plt.tight_layout()\n",
        "plt.show()\n",
        "\n",
        "# Print input and output matrices for the small example\n",
        "print(\"Simple Input Image (Matrix Form):\")\n",
        "print(simple_input_image)\n",
        "print(\"\\nSimple Filtered Image (Matrix Form):\")\n",
        "print(simple_output_image)\n"
      ],
      "metadata": {
        "colab": {
          "base_uri": "https://localhost:8080/",
          "height": 497
        },
        "id": "kZvMkDgJAqYs",
        "outputId": "e07d7f3a-5a77-4042-f122-ae3e8692c425"
      },
      "execution_count": 4,
      "outputs": [
        {
          "output_type": "display_data",
          "data": {
            "text/plain": [
              "<Figure size 600x300 with 4 Axes>"
            ],
            "image/png": "[encoded data removed]"
          },
          "metadata": {}
        },
        {
          "output_type": "stream",
          "name": "stdout",
          "text": [
            "Simple Input Image (Matrix Form):\n",
            "[[100 150 200 250]\n",
            " [100 150 200 250]\n",
            " [ 50 100 150 200]\n",
            " [ 50 100 150 200]]\n",
            "\n",
            "Simple Filtered Image (Matrix Form):\n",
            "[[  0   0   0   0]\n",
            " [  0 120 165   0]\n",
            " [  0 105 150   0]\n",
            " [  0   0   0   0]]\n"
          ]
        }
      ]
    },
    {
      "cell_type": "code",
      "source": [],
      "metadata": {
        "id": "XlWNQ0iNA0os"
      },
      "execution_count": null,
      "outputs": []
    }
  ]
}